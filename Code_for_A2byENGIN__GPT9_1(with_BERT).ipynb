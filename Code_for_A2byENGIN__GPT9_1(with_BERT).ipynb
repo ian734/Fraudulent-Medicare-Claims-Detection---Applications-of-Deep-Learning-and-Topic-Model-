{
  "cells": [
    {
      "cell_type": "markdown",
      "metadata": {
        "id": "view-in-github",
        "colab_type": "text"
      },
      "source": [
        "<a href=\"https://colab.research.google.com/github/ian734/Fraudulent-Medicare-Claims-Detection---Applications-of-Deep-Learning-and-Topic-Model-/blob/main/Code_for_A2byENGIN__GPT9_1(with_BERT).ipynb\" target=\"_parent\"><img src=\"https://colab.research.google.com/assets/colab-badge.svg\" alt=\"Open In Colab\"/></a>"
      ]
    },
    {
      "cell_type": "code",
      "execution_count": null,
      "metadata": {
        "id": "KuH4Q8EXeBCa",
        "colab": {
          "base_uri": "https://localhost:8080/"
        },
        "outputId": "5ae9abfc-d55c-4988-cbd3-4c3402c16480"
      },
      "outputs": [
        {
          "output_type": "stream",
          "name": "stdout",
          "text": [
            "Drive already mounted at /content/gdrive; to attempt to forcibly remount, call drive.mount(\"/content/gdrive\", force_remount=True).\n"
          ]
        }
      ],
      "source": [
        "from google.colab import drive\n",
        "drive.mount('/content/gdrive')"
      ]
    },
    {
      "cell_type": "markdown",
      "metadata": {
        "id": "Dh1IDH5XnO9B"
      },
      "source": [
        "# **匯入套件**"
      ]
    },
    {
      "cell_type": "code",
      "execution_count": null,
      "metadata": {
        "id": "uwCBhXdMeGtS"
      },
      "outputs": [],
      "source": [
        "import numpy as np\n",
        "import pandas as pd\n",
        "import math\n",
        "import sklearn\n",
        "import matplotlib.pyplot as plt\n",
        "import sklearn.preprocessing\n",
        "import tensorflow.compat.v1 as tf\n",
        "\n",
        "from imblearn.over_sampling import SMOTE\n",
        "from sklearn.ensemble import RandomForestClassifier\n",
        "from sklearn.ensemble import RandomForestRegressor\n",
        "from sklearn.metrics import recall_score, precision_score, accuracy_score, mean_squared_error, accuracy_score, confusion_matrix, f1_score\n",
        "from sklearn.model_selection import train_test_split\n",
        "import seaborn as sns\n",
        "from sklearn.tree import DecisionTreeClassifier\n",
        "from sklearn.preprocessing import LabelEncoder\n",
        "from collections import Counter\n",
        "from tensorflow.keras.models import Sequential\n",
        "from tensorflow.keras.layers import GRU, Dense"
      ]
    },
    {
      "cell_type": "markdown",
      "source": [
        "-------------------------\n",
        "**LSTM**\n",
        "*  Accuracy Score: 83.67%\n",
        "*  Precision Score: 99.35%\n",
        "*  Recall Score: 83.67%\n",
        "*  F1 score: 90.62%\n",
        "--------------------------"
      ],
      "metadata": {
        "id": "_RDR0K4A5zrP"
      }
    },
    {
      "cell_type": "markdown",
      "source": [
        "\n",
        "-------------------------\n",
        "**RNN**\n",
        "*   Accuracy Score: 74.22%\n",
        "*   Precision Score: 99.35%\n",
        "*   Recall Score: 74.22%\n",
        "*   F1 score: 84.71%\n",
        "--------------------------"
      ],
      "metadata": {
        "id": "EtUQPbJP5RWr"
      }
    },
    {
      "cell_type": "markdown",
      "source": [
        "-------------------------\n",
        "**GRU**\n",
        "* Accuracy Score: 77.60%\n",
        "* Precision Score: 99.36%\n",
        "* Recall Score: 77.60%\n",
        "* F1 score: 86.89%\n",
        "--------------------------"
      ],
      "metadata": {
        "id": "Mfxo1S6pFGyM"
      }
    },
    {
      "cell_type": "code",
      "execution_count": null,
      "metadata": {
        "colab": {
          "base_uri": "https://localhost:8080/",
          "height": 357
        },
        "id": "kIQS6xtnfjoN",
        "outputId": "77d363ae-32b0-49a1-a7a3-815a6a8561be"
      },
      "outputs": [
        {
          "output_type": "execute_result",
          "data": {
            "text/plain": [
              "     x1  x2          x3             x4             x5        x6  \\\n",
              "0  11.0  11   25.410000   1.801382e-02   1.706322e-02  0.015318   \n",
              "1  11.0  11   20.250000  6.110000e-306  6.520000e-306  1.000000   \n",
              "2  11.0  11   27.540000   1.686391e-02   1.598200e-02  0.014344   \n",
              "3  11.0  11    4.610000   6.058555e-03   8.006379e-03  0.007319   \n",
              "4  11.0  11  160.817273   6.398337e-02   4.318306e-02  0.063822   \n",
              "\n",
              "              x7             x8          x9  y  \n",
              "0   2.434581e-02   3.466277e-03   24.992727  0  \n",
              "1  1.080000e-305  1.100000e-306   15.967273  0  \n",
              "2   2.280891e-02   3.246517e-03   26.990000  0  \n",
              "3   1.300794e-02   1.289546e-03    4.610000  0  \n",
              "4   8.986368e-02   4.442321e-01  118.473636  0  "
            ],
            "text/html": [
              "\n",
              "  <div id=\"df-8cce2ae8-c278-4ebb-bab6-8036d1e299f2\">\n",
              "    <div class=\"colab-df-container\">\n",
              "      <div>\n",
              "<style scoped>\n",
              "    .dataframe tbody tr th:only-of-type {\n",
              "        vertical-align: middle;\n",
              "    }\n",
              "\n",
              "    .dataframe tbody tr th {\n",
              "        vertical-align: top;\n",
              "    }\n",
              "\n",
              "    .dataframe thead th {\n",
              "        text-align: right;\n",
              "    }\n",
              "</style>\n",
              "<table border=\"1\" class=\"dataframe\">\n",
              "  <thead>\n",
              "    <tr style=\"text-align: right;\">\n",
              "      <th></th>\n",
              "      <th>x1</th>\n",
              "      <th>x2</th>\n",
              "      <th>x3</th>\n",
              "      <th>x4</th>\n",
              "      <th>x5</th>\n",
              "      <th>x6</th>\n",
              "      <th>x7</th>\n",
              "      <th>x8</th>\n",
              "      <th>x9</th>\n",
              "      <th>y</th>\n",
              "    </tr>\n",
              "  </thead>\n",
              "  <tbody>\n",
              "    <tr>\n",
              "      <th>0</th>\n",
              "      <td>11.0</td>\n",
              "      <td>11</td>\n",
              "      <td>25.410000</td>\n",
              "      <td>1.801382e-02</td>\n",
              "      <td>1.706322e-02</td>\n",
              "      <td>0.015318</td>\n",
              "      <td>2.434581e-02</td>\n",
              "      <td>3.466277e-03</td>\n",
              "      <td>24.992727</td>\n",
              "      <td>0</td>\n",
              "    </tr>\n",
              "    <tr>\n",
              "      <th>1</th>\n",
              "      <td>11.0</td>\n",
              "      <td>11</td>\n",
              "      <td>20.250000</td>\n",
              "      <td>6.110000e-306</td>\n",
              "      <td>6.520000e-306</td>\n",
              "      <td>1.000000</td>\n",
              "      <td>1.080000e-305</td>\n",
              "      <td>1.100000e-306</td>\n",
              "      <td>15.967273</td>\n",
              "      <td>0</td>\n",
              "    </tr>\n",
              "    <tr>\n",
              "      <th>2</th>\n",
              "      <td>11.0</td>\n",
              "      <td>11</td>\n",
              "      <td>27.540000</td>\n",
              "      <td>1.686391e-02</td>\n",
              "      <td>1.598200e-02</td>\n",
              "      <td>0.014344</td>\n",
              "      <td>2.280891e-02</td>\n",
              "      <td>3.246517e-03</td>\n",
              "      <td>26.990000</td>\n",
              "      <td>0</td>\n",
              "    </tr>\n",
              "    <tr>\n",
              "      <th>3</th>\n",
              "      <td>11.0</td>\n",
              "      <td>11</td>\n",
              "      <td>4.610000</td>\n",
              "      <td>6.058555e-03</td>\n",
              "      <td>8.006379e-03</td>\n",
              "      <td>0.007319</td>\n",
              "      <td>1.300794e-02</td>\n",
              "      <td>1.289546e-03</td>\n",
              "      <td>4.610000</td>\n",
              "      <td>0</td>\n",
              "    </tr>\n",
              "    <tr>\n",
              "      <th>4</th>\n",
              "      <td>11.0</td>\n",
              "      <td>11</td>\n",
              "      <td>160.817273</td>\n",
              "      <td>6.398337e-02</td>\n",
              "      <td>4.318306e-02</td>\n",
              "      <td>0.063822</td>\n",
              "      <td>8.986368e-02</td>\n",
              "      <td>4.442321e-01</td>\n",
              "      <td>118.473636</td>\n",
              "      <td>0</td>\n",
              "    </tr>\n",
              "  </tbody>\n",
              "</table>\n",
              "</div>\n",
              "      <button class=\"colab-df-convert\" onclick=\"convertToInteractive('df-8cce2ae8-c278-4ebb-bab6-8036d1e299f2')\"\n",
              "              title=\"Convert this dataframe to an interactive table.\"\n",
              "              style=\"display:none;\">\n",
              "        \n",
              "  <svg xmlns=\"http://www.w3.org/2000/svg\" height=\"24px\"viewBox=\"0 0 24 24\"\n",
              "       width=\"24px\">\n",
              "    <path d=\"M0 0h24v24H0V0z\" fill=\"none\"/>\n",
              "    <path d=\"M18.56 5.44l.94 2.06.94-2.06 2.06-.94-2.06-.94-.94-2.06-.94 2.06-2.06.94zm-11 1L8.5 8.5l.94-2.06 2.06-.94-2.06-.94L8.5 2.5l-.94 2.06-2.06.94zm10 10l.94 2.06.94-2.06 2.06-.94-2.06-.94-.94-2.06-.94 2.06-2.06.94z\"/><path d=\"M17.41 7.96l-1.37-1.37c-.4-.4-.92-.59-1.43-.59-.52 0-1.04.2-1.43.59L10.3 9.45l-7.72 7.72c-.78.78-.78 2.05 0 2.83L4 21.41c.39.39.9.59 1.41.59.51 0 1.02-.2 1.41-.59l7.78-7.78 2.81-2.81c.8-.78.8-2.07 0-2.86zM5.41 20L4 18.59l7.72-7.72 1.47 1.35L5.41 20z\"/>\n",
              "  </svg>\n",
              "      </button>\n",
              "      \n",
              "  <style>\n",
              "    .colab-df-container {\n",
              "      display:flex;\n",
              "      flex-wrap:wrap;\n",
              "      gap: 12px;\n",
              "    }\n",
              "\n",
              "    .colab-df-convert {\n",
              "      background-color: #E8F0FE;\n",
              "      border: none;\n",
              "      border-radius: 50%;\n",
              "      cursor: pointer;\n",
              "      display: none;\n",
              "      fill: #1967D2;\n",
              "      height: 32px;\n",
              "      padding: 0 0 0 0;\n",
              "      width: 32px;\n",
              "    }\n",
              "\n",
              "    .colab-df-convert:hover {\n",
              "      background-color: #E2EBFA;\n",
              "      box-shadow: 0px 1px 2px rgba(60, 64, 67, 0.3), 0px 1px 3px 1px rgba(60, 64, 67, 0.15);\n",
              "      fill: #174EA6;\n",
              "    }\n",
              "\n",
              "    [theme=dark] .colab-df-convert {\n",
              "      background-color: #3B4455;\n",
              "      fill: #D2E3FC;\n",
              "    }\n",
              "\n",
              "    [theme=dark] .colab-df-convert:hover {\n",
              "      background-color: #434B5C;\n",
              "      box-shadow: 0px 1px 3px 1px rgba(0, 0, 0, 0.15);\n",
              "      filter: drop-shadow(0px 1px 2px rgba(0, 0, 0, 0.3));\n",
              "      fill: #FFFFFF;\n",
              "    }\n",
              "  </style>\n",
              "\n",
              "      <script>\n",
              "        const buttonEl =\n",
              "          document.querySelector('#df-8cce2ae8-c278-4ebb-bab6-8036d1e299f2 button.colab-df-convert');\n",
              "        buttonEl.style.display =\n",
              "          google.colab.kernel.accessAllowed ? 'block' : 'none';\n",
              "\n",
              "        async function convertToInteractive(key) {\n",
              "          const element = document.querySelector('#df-8cce2ae8-c278-4ebb-bab6-8036d1e299f2');\n",
              "          const dataTable =\n",
              "            await google.colab.kernel.invokeFunction('convertToInteractive',\n",
              "                                                     [key], {});\n",
              "          if (!dataTable) return;\n",
              "\n",
              "          const docLinkHtml = 'Like what you see? Visit the ' +\n",
              "            '<a target=\"_blank\" href=https://colab.research.google.com/notebooks/data_table.ipynb>data table notebook</a>'\n",
              "            + ' to learn more about interactive tables.';\n",
              "          element.innerHTML = '';\n",
              "          dataTable['output_type'] = 'display_data';\n",
              "          await google.colab.output.renderOutput(dataTable, element);\n",
              "          const docLink = document.createElement('div');\n",
              "          docLink.innerHTML = docLinkHtml;\n",
              "          element.appendChild(docLink);\n",
              "        }\n",
              "      </script>\n",
              "    </div>\n",
              "  </div>\n",
              "  "
            ]
          },
          "metadata": {},
          "execution_count": 3
        }
      ],
      "source": [
        "# read data file\n",
        "dataset = pd.read_csv(\"/content/gdrive/MyDrive/paper/df_tag.csv\")\n",
        "dataset.columns = ['x1','x2','x3','x4','x5','x6','x7','x8','x9','y']\n",
        "dataset.head()"
      ]
    },
    {
      "cell_type": "markdown",
      "metadata": {
        "id": "NrRkW7MAk3I3"
      },
      "source": [
        "# **1.LSTM**"
      ]
    },
    {
      "cell_type": "code",
      "execution_count": null,
      "metadata": {
        "id": "VBG-xpOIzTBN"
      },
      "outputs": [],
      "source": [
        "# -*- coding: utf-8 -*---\n",
        "##  提供的資料格式   第一列是變數名稱\n",
        "##  x1,x2,x3,x4…,xn,y\n",
        "\n",
        "\n",
        "# parameters\n",
        "x_no= 9     ## x的變數個數\n",
        "y_no= 1     ## y的變數個數\n",
        "\n",
        "window=1\n",
        "ahead=0\n",
        "seq_len = window + ahead"
      ]
    },
    {
      "cell_type": "code",
      "execution_count": null,
      "metadata": {
        "id": "zri8rdKmeJHI"
      },
      "outputs": [],
      "source": [
        "data_length= len(dataset)\n",
        "\n",
        "df_stock = dataset.copy()\n",
        "df_stock = df_stock.dropna()  ## 去掉空的資料列!!\n",
        "\n",
        "df_stock_X = df_stock.iloc[:,:-1]\n",
        "df_stock_Y = df_stock.iloc[:,-1]"
      ]
    },
    {
      "cell_type": "code",
      "execution_count": null,
      "metadata": {
        "id": "wu-O25hfeK3Y"
      },
      "outputs": [],
      "source": [
        "# normalize the dataset\n",
        "from sklearn import preprocessing as skpp\n",
        "from pandas import DataFrame\n",
        "\n",
        "scaler = skpp.MinMaxScaler(feature_range=(0, 1))\n",
        "df_stock_Xnorm = DataFrame(scaler.fit_transform(df_stock_X))"
      ]
    },
    {
      "cell_type": "code",
      "execution_count": null,
      "metadata": {
        "id": "rq1bFeq-eNW8"
      },
      "outputs": [],
      "source": [
        "## 轉為 DataFrame\n",
        "df_stock_Y = DataFrame(df_stock_Y)\n",
        "\n",
        "##  將X and Y合併!\n",
        "df_stock_Xnorm['tmp'] = np.arange(0,len(df_stock_Xnorm))\n",
        "df_stock_Y['tmp'] = np.arange(0,len(df_stock_Y))\n",
        "\n",
        "df_stock_new= pd.merge(df_stock_Xnorm, df_stock_Y, on=['tmp'])\n",
        "df_stock_new = df_stock_new.drop('tmp', axis=1)\n",
        "\n",
        "df_stock_norm= df_stock_new"
      ]
    },
    {
      "cell_type": "code",
      "execution_count": null,
      "metadata": {
        "id": "sYvovB3SeR92"
      },
      "outputs": [],
      "source": [
        "############################\n",
        "# data windows + Splitting the dataset into Train, Valid & test data\n",
        "valid_set_size_percentage = 10\n",
        "test_set_size_percentage = 10\n",
        "\n",
        "def load_data(stock, seq_len):\n",
        "    data_raw = stock\n",
        "    data = []\n",
        "    for index in range(len(data_raw) - seq_len+1):\n",
        "        data.append(data_raw[index: index + seq_len])\n",
        "    data = np.array(data);\n",
        "    valid_set_size = int(np.round(valid_set_size_percentage/1000*data.shape[0]));\n",
        "    test_set_size = int(np.round(test_set_size_percentage/100*data.shape[0]));\n",
        "    train_set_size = data.shape[0] - (valid_set_size + test_set_size);\n",
        "    x_train = data[:train_set_size,:window,: -y_no]\n",
        "    y_train = data[:train_set_size,-1, -y_no:]\n",
        "    x_valid = data[train_set_size:train_set_size+valid_set_size, :window,: -y_no]\n",
        "    y_valid = data[train_set_size:train_set_size+valid_set_size,-1, -y_no:]\n",
        "    x_test = data[train_set_size+valid_set_size:, :window,: -y_no]\n",
        "    y_test = data[train_set_size+valid_set_size:,-1, -y_no:]\n",
        "    return [x_train, y_train, x_valid, y_valid, x_test, y_test]\n",
        "\n",
        "\n",
        "x_train, y_train, x_valid, y_valid, x_test, y_test= [],[],[],[],[],[]\n",
        "\n",
        "i=0\n",
        "df_stock_norm_temp = df_stock_norm.iloc[np.arange(data_length*i, data_length*i + data_length),:]\n",
        "x_traint, y_traint, x_validt, y_validt, x_testt, y_testt = load_data(df_stock_norm_temp, seq_len)\n",
        "x_train.append(x_traint)\n",
        "y_train.append(y_traint)\n",
        "x_valid.append(x_validt)\n",
        "y_valid.append(y_validt)\n",
        "x_test.append(x_testt)\n",
        "y_test.append(y_testt)"
      ]
    },
    {
      "cell_type": "code",
      "execution_count": null,
      "metadata": {
        "id": "TotaqzrqeW3A"
      },
      "outputs": [],
      "source": [
        "##  4D to  3D\n",
        "x_train=np.reshape(np.array(x_train), (-1, window, x_no))\n",
        "y_train=np.reshape(np.array(y_train), (-1, y_no))\n",
        "\n",
        "x_valid=np.reshape(np.array(x_valid), (-1, window, x_no))\n",
        "y_valid=np.reshape(np.array(y_valid), (-1, y_no))\n",
        "\n",
        "x_test=np.reshape(np.array(x_test), (-1, window, x_no))\n",
        "y_test=np.reshape(np.array(y_test), (-1, y_no))"
      ]
    },
    {
      "cell_type": "code",
      "execution_count": null,
      "metadata": {
        "colab": {
          "base_uri": "https://localhost:8080/",
          "height": 519
        },
        "id": "LGPxqxrgea8e",
        "outputId": "0ce91f41-9d24-4fca-c6e7-8fab7e1cd501"
      },
      "outputs": [
        {
          "output_type": "stream",
          "name": "stdout",
          "text": [
            "Class=0, n=135707 (98.689%)\n",
            "Class=1, n=1803 (1.311%)\n"
          ]
        },
        {
          "output_type": "stream",
          "name": "stderr",
          "text": [
            "/usr/local/lib/python3.10/dist-packages/sklearn/preprocessing/_label.py:116: DataConversionWarning: A column-vector y was passed when a 1d array was expected. Please change the shape of y to (n_samples, ), for example using ravel().\n",
            "  y = column_or_1d(y, warn=True)\n"
          ]
        },
        {
          "output_type": "display_data",
          "data": {
            "text/plain": [
              "<Figure size 640x480 with 1 Axes>"
            ],
            "image/png": "[encoded data removed]"
          },
          "metadata": {}
        }
      ],
      "source": [
        "#########################################\n",
        "##  看y 的 level 分布情形!\n",
        "X=x_train\n",
        "y=y_train\n",
        "\n",
        "from sklearn.preprocessing import LabelEncoder\n",
        "from collections import Counter\n",
        "\n",
        "y = LabelEncoder().fit_transform(y)\n",
        "counter = Counter(y)\n",
        "for k,v in counter.items():\n",
        "    per = v / len(y) * 100\n",
        "    print('Class=%d, n=%d (%.3f%%)' % (k, v, per))\n",
        "plt.bar(counter.keys(), counter.values())\n",
        "plt.show()"
      ]
    },
    {
      "cell_type": "code",
      "execution_count": null,
      "metadata": {
        "colab": {
          "base_uri": "https://localhost:8080/",
          "height": 465
        },
        "id": "5D6IbPNKedSy",
        "outputId": "86c330f1-01d6-4fc7-c226-50daed7775aa"
      },
      "outputs": [
        {
          "output_type": "stream",
          "name": "stdout",
          "text": [
            "Class=0, n=135707 (50.000%)\n",
            "Class=1, n=135707 (50.000%)\n"
          ]
        },
        {
          "output_type": "display_data",
          "data": {
            "text/plain": [
              "<Figure size 640x480 with 1 Axes>"
            ],
            "image/png": "[encoded data removed]"
          },
          "metadata": {}
        }
      ],
      "source": [
        "##########################\n",
        "## SMOTE\n",
        "\n",
        "from imblearn.over_sampling import SMOTE\n",
        "\n",
        "X=np.reshape(np.array(X), (len(x_train), -1))\n",
        "oversample = SMOTE()\n",
        "X, y = oversample.fit_resample(X, y)\n",
        "counter = Counter(y)\n",
        "for k,v in counter.items():\n",
        "    per = v / len(y) * 100\n",
        "    print('Class=%d, n=%d (%.3f%%)' % (k, v, per))\n",
        "plt.bar(counter.keys(), counter.values())\n",
        "plt.show()"
      ]
    },
    {
      "cell_type": "code",
      "execution_count": null,
      "metadata": {
        "id": "U4n5GmTnegjM"
      },
      "outputs": [],
      "source": [
        "###########################\n",
        "##  reshape x 資料\n",
        "X=np.reshape(np.array(X), (-1, window ,x_no))\n",
        "\n",
        "y_level=len(np.unique(y))   ## y 有多少levels\n",
        "\n",
        "##  one-hot encoding\n",
        "from keras.utils import np_utils\n",
        "y_oneshot = np_utils.to_categorical(y)\n",
        "\n",
        "y_valid= np_utils.to_categorical(y_valid)\n",
        "y_test= np_utils.to_categorical(y_test)"
      ]
    },
    {
      "cell_type": "code",
      "execution_count": null,
      "metadata": {
        "id": "IXXaXbVUeja0"
      },
      "outputs": [],
      "source": [
        "############################################\n",
        "\n",
        "x_train=X\n",
        "y_train= y_oneshot\n",
        "\n",
        "############################################"
      ]
    },
    {
      "cell_type": "code",
      "execution_count": null,
      "metadata": {
        "id": "ehat3Ky1elSt"
      },
      "outputs": [],
      "source": [
        "\"\"\"Building the LSTM Model\"\"\"\n",
        "\n",
        "# parameters & Placeholders\n",
        "n_steps = window\n",
        "n_inputs = x_no\n",
        "n_neurons = 256\n",
        "n_outputs = y_level\n",
        "n_layers = 2\n",
        "learning_rate = 0.0005\n",
        "batch_size = 150\n",
        "n_epochs = 20\n",
        "train_set_size = x_train.shape[0]\n",
        "test_set_size = x_test.shape[0]\n",
        "tf.reset_default_graph()\n",
        "tf.disable_eager_execution()"
      ]
    },
    {
      "cell_type": "code",
      "execution_count": null,
      "metadata": {
        "id": "TqzTWtG2uqTH"
      },
      "outputs": [],
      "source": [
        "##用 tf.placeholder 創造出未來存放 x 與 y 值的地方\n",
        "X = tf.compat.v1.placeholder(tf.float32, [None, n_steps, n_inputs])\n",
        "y = tf.compat.v1.placeholder(tf.float32, [None, n_outputs])\n",
        "# function to get the next batch\n",
        "index_in_epoch = 0;\n",
        "perm_array  = np.arange(x_train.shape[0])\n",
        "np.random.shuffle(perm_array)  ## 隨機排列"
      ]
    },
    {
      "cell_type": "code",
      "execution_count": null,
      "metadata": {
        "id": "4Eyj44BVeqcQ"
      },
      "outputs": [],
      "source": [
        "def get_next_batch(batch_size):\n",
        "    global index_in_epoch, x_train, perm_array\n",
        "    start = index_in_epoch\n",
        "    index_in_epoch += batch_size\n",
        "    if index_in_epoch > x_train.shape[0]:\n",
        "        np.random.shuffle(perm_array) # shuffle permutation array\n",
        "        start = 0 # start next epoch\n",
        "        index_in_epoch = batch_size\n",
        "    end = index_in_epoch\n",
        "    return x_train[perm_array[start:end]], y_train[perm_array[start:end]]"
      ]
    },
    {
      "cell_type": "code",
      "execution_count": null,
      "metadata": {
        "colab": {
          "base_uri": "https://localhost:8080/",
          "height": 679
        },
        "id": "3S9QZEwqd1VR",
        "outputId": "d661aca4-5978-4e3c-de48-4c8ea06e7d0d"
      },
      "outputs": [
        {
          "output_type": "stream",
          "name": "stderr",
          "text": [
            "<ipython-input-17-9d707457d4fa>:3: UserWarning: `tf.nn.rnn_cell.BasicLSTMCell` is deprecated and will be removed in a future version. This class is equivalent as `tf.keras.layers.LSTMCell`, and will be replaced by that in Tensorflow 2.0.\n",
            "  layers = [tf.compat.v1.nn.rnn_cell.BasicLSTMCell(num_units=n_neurons, activation=tf.nn.elu)\n",
            "WARNING:tensorflow:`tf.nn.rnn_cell.MultiRNNCell` is deprecated. This class is equivalent as `tf.keras.layers.StackedRNNCells`, and will be replaced by that in Tensorflow 2.0.\n",
            "WARNING:tensorflow:From <ipython-input-17-9d707457d4fa>:6: dynamic_rnn (from tensorflow.python.ops.rnn) is deprecated and will be removed in a future version.\n",
            "Instructions for updating:\n",
            "Please use `keras.layers.RNN(cell)`, which is equivalent to this API\n",
            "WARNING:tensorflow:From /usr/local/lib/python3.10/dist-packages/keras/layers/rnn/legacy_cells.py:792: calling Zeros.__init__ (from tensorflow.python.ops.init_ops) with dtype is deprecated and will be removed in a future version.\n",
            "Instructions for updating:\n",
            "Call initializer instance with the dtype argument instead of passing it to the constructor\n",
            "<ipython-input-17-9d707457d4fa>:8: UserWarning: `tf.layers.dense` is deprecated and will be removed in a future version. Please use `tf.keras.layers.Dense` instead.\n",
            "  stacked_outputs = tf.compat.v1.layers.dense(stacked_rnn_outputs, n_outputs)\n"
          ]
        },
        {
          "output_type": "error",
          "ename": "ValueError",
          "evalue": "ignored",
          "traceback": [
            "\u001b[0;31m---------------------------------------------------------------------------\u001b[0m",
            "\u001b[0;31mValueError\u001b[0m                                Traceback (most recent call last)",
            "\u001b[0;32m<ipython-input-17-9d707457d4fa>\u001b[0m in \u001b[0;36m<cell line: 21>\u001b[0;34m()\u001b[0m\n\u001b[1;32m     26\u001b[0m         \u001b[0;32mif\u001b[0m \u001b[0miteration\u001b[0m \u001b[0;34m%\u001b[0m \u001b[0mint\u001b[0m\u001b[0;34m(\u001b[0m\u001b[0;36m5\u001b[0m\u001b[0;34m*\u001b[0m\u001b[0mtrain_set_size\u001b[0m\u001b[0;34m/\u001b[0m\u001b[0mbatch_size\u001b[0m\u001b[0;34m)\u001b[0m \u001b[0;34m==\u001b[0m \u001b[0;36m0\u001b[0m\u001b[0;34m:\u001b[0m\u001b[0;34m\u001b[0m\u001b[0;34m\u001b[0m\u001b[0m\n\u001b[1;32m     27\u001b[0m             \u001b[0mmse_train\u001b[0m \u001b[0;34m=\u001b[0m \u001b[0mloss\u001b[0m\u001b[0;34m.\u001b[0m\u001b[0meval\u001b[0m\u001b[0;34m(\u001b[0m\u001b[0mfeed_dict\u001b[0m\u001b[0;34m=\u001b[0m\u001b[0;34m{\u001b[0m\u001b[0mX\u001b[0m\u001b[0;34m:\u001b[0m \u001b[0mx_train\u001b[0m\u001b[0;34m,\u001b[0m \u001b[0my\u001b[0m\u001b[0;34m:\u001b[0m \u001b[0my_train\u001b[0m\u001b[0;34m}\u001b[0m\u001b[0;34m)\u001b[0m\u001b[0;34m\u001b[0m\u001b[0;34m\u001b[0m\u001b[0m\n\u001b[0;32m---> 28\u001b[0;31m             \u001b[0mmse_valid\u001b[0m \u001b[0;34m=\u001b[0m \u001b[0mloss\u001b[0m\u001b[0;34m.\u001b[0m\u001b[0meval\u001b[0m\u001b[0;34m(\u001b[0m\u001b[0mfeed_dict\u001b[0m\u001b[0;34m=\u001b[0m\u001b[0;34m{\u001b[0m\u001b[0mX\u001b[0m\u001b[0;34m:\u001b[0m \u001b[0mx_valid\u001b[0m\u001b[0;34m,\u001b[0m \u001b[0my\u001b[0m\u001b[0;34m:\u001b[0m \u001b[0my_valid\u001b[0m\u001b[0;34m}\u001b[0m\u001b[0;34m)\u001b[0m\u001b[0;34m\u001b[0m\u001b[0;34m\u001b[0m\u001b[0m\n\u001b[0m\u001b[1;32m     29\u001b[0m             print('%.2f epochs: MSE train/valid = %.6f/%.6f'%(\n\u001b[1;32m     30\u001b[0m                 iteration*batch_size/train_set_size, mse_train, mse_valid))\n",
            "\u001b[0;32m/usr/local/lib/python3.10/dist-packages/tensorflow/python/framework/ops.py\u001b[0m in \u001b[0;36meval\u001b[0;34m(self, feed_dict, session)\u001b[0m\n\u001b[1;32m    988\u001b[0m       \u001b[0mA\u001b[0m \u001b[0mnumpy\u001b[0m \u001b[0marray\u001b[0m \u001b[0mcorresponding\u001b[0m \u001b[0mto\u001b[0m \u001b[0mthe\u001b[0m \u001b[0mvalue\u001b[0m \u001b[0mof\u001b[0m \u001b[0mthis\u001b[0m \u001b[0mtensor\u001b[0m\u001b[0;34m.\u001b[0m\u001b[0;34m\u001b[0m\u001b[0;34m\u001b[0m\u001b[0m\n\u001b[1;32m    989\u001b[0m     \"\"\"\n\u001b[0;32m--> 990\u001b[0;31m     \u001b[0;32mreturn\u001b[0m \u001b[0m_eval_using_default_session\u001b[0m\u001b[0;34m(\u001b[0m\u001b[0mself\u001b[0m\u001b[0;34m,\u001b[0m \u001b[0mfeed_dict\u001b[0m\u001b[0;34m,\u001b[0m \u001b[0mself\u001b[0m\u001b[0;34m.\u001b[0m\u001b[0mgraph\u001b[0m\u001b[0;34m,\u001b[0m \u001b[0msession\u001b[0m\u001b[0;34m)\u001b[0m\u001b[0;34m\u001b[0m\u001b[0;34m\u001b[0m\u001b[0m\n\u001b[0m\u001b[1;32m    991\u001b[0m \u001b[0;34m\u001b[0m\u001b[0m\n\u001b[1;32m    992\u001b[0m   \u001b[0;34m@\u001b[0m\u001b[0mdeprecation\u001b[0m\u001b[0;34m.\u001b[0m\u001b[0mdeprecated\u001b[0m\u001b[0;34m(\u001b[0m\u001b[0;32mNone\u001b[0m\u001b[0;34m,\u001b[0m \u001b[0;34m\"Use ref() instead.\"\u001b[0m\u001b[0;34m)\u001b[0m\u001b[0;34m\u001b[0m\u001b[0;34m\u001b[0m\u001b[0m\n",
            "\u001b[0;32m/usr/local/lib/python3.10/dist-packages/tensorflow/python/framework/ops.py\u001b[0m in \u001b[0;36m_eval_using_default_session\u001b[0;34m(tensors, feed_dict, graph, session)\u001b[0m\n\u001b[1;32m   5849\u001b[0m                        \u001b[0;34m\"the tensor's graph is different from the session's \"\u001b[0m\u001b[0;34m\u001b[0m\u001b[0;34m\u001b[0m\u001b[0m\n\u001b[1;32m   5850\u001b[0m                        \"graph.\")\n\u001b[0;32m-> 5851\u001b[0;31m   \u001b[0;32mreturn\u001b[0m \u001b[0msession\u001b[0m\u001b[0;34m.\u001b[0m\u001b[0mrun\u001b[0m\u001b[0;34m(\u001b[0m\u001b[0mtensors\u001b[0m\u001b[0;34m,\u001b[0m \u001b[0mfeed_dict\u001b[0m\u001b[0;34m)\u001b[0m\u001b[0;34m\u001b[0m\u001b[0;34m\u001b[0m\u001b[0m\n\u001b[0m\u001b[1;32m   5852\u001b[0m \u001b[0;34m\u001b[0m\u001b[0m\n\u001b[1;32m   5853\u001b[0m \u001b[0;34m\u001b[0m\u001b[0m\n",
            "\u001b[0;32m/usr/local/lib/python3.10/dist-packages/tensorflow/python/client/session.py\u001b[0m in \u001b[0;36mrun\u001b[0;34m(self, fetches, feed_dict, options, run_metadata)\u001b[0m\n\u001b[1;32m    966\u001b[0m \u001b[0;34m\u001b[0m\u001b[0m\n\u001b[1;32m    967\u001b[0m     \u001b[0;32mtry\u001b[0m\u001b[0;34m:\u001b[0m\u001b[0;34m\u001b[0m\u001b[0;34m\u001b[0m\u001b[0m\n\u001b[0;32m--> 968\u001b[0;31m       result = self._run(None, fetches, feed_dict, options_ptr,\n\u001b[0m\u001b[1;32m    969\u001b[0m                          run_metadata_ptr)\n\u001b[1;32m    970\u001b[0m       \u001b[0;32mif\u001b[0m \u001b[0mrun_metadata\u001b[0m\u001b[0;34m:\u001b[0m\u001b[0;34m\u001b[0m\u001b[0;34m\u001b[0m\u001b[0m\n",
            "\u001b[0;32m/usr/local/lib/python3.10/dist-packages/tensorflow/python/client/session.py\u001b[0m in \u001b[0;36m_run\u001b[0;34m(self, handle, fetches, feed_dict, options, run_metadata)\u001b[0m\n\u001b[1;32m   1163\u001b[0m           if (not is_tensor_handle_feed and\n\u001b[1;32m   1164\u001b[0m               not subfeed_t.get_shape().is_compatible_with(np_val.shape)):\n\u001b[0;32m-> 1165\u001b[0;31m             raise ValueError(\n\u001b[0m\u001b[1;32m   1166\u001b[0m                 \u001b[0;34mf'Cannot feed value of shape {str(np_val.shape)} for Tensor '\u001b[0m\u001b[0;34m\u001b[0m\u001b[0;34m\u001b[0m\u001b[0m\n\u001b[1;32m   1167\u001b[0m                 \u001b[0;34mf'{subfeed_t.name}, which has shape '\u001b[0m\u001b[0;34m\u001b[0m\u001b[0;34m\u001b[0m\u001b[0m\n",
            "\u001b[0;31mValueError\u001b[0m: Cannot feed value of shape (153, 1) for Tensor Placeholder_1:0, which has shape (None, 2)"
          ]
        }
      ],
      "source": [
        "# LSTM\n",
        "\n",
        "layers = [tf.compat.v1.nn.rnn_cell.BasicLSTMCell(num_units=n_neurons, activation=tf.nn.elu)\n",
        "        for layer in range(n_layers)]\n",
        "multi_layer_cell =tf.compat.v1.nn.rnn_cell.MultiRNNCell(layers)\n",
        "rnn_outputs, states = tf.compat.v1.nn.dynamic_rnn(multi_layer_cell, X, dtype=tf.float32)\n",
        "stacked_rnn_outputs = tf.reshape(rnn_outputs, [-1, n_neurons])\n",
        "stacked_outputs = tf.compat.v1.layers.dense(stacked_rnn_outputs, n_outputs)\n",
        "\n",
        "outputs = tf.reshape(stacked_outputs, [-1, n_steps, n_outputs])\n",
        "outputs = outputs[:,n_steps-1,:] # keep only last output of sequence\n",
        "\n",
        "# Cost function\n",
        "loss = tf.reduce_mean(tf.nn.softmax_cross_entropy_with_logits_v2(logits= outputs,labels=y) )\n",
        "\n",
        "#optimizer\n",
        "optimizer = tf.train.AdamOptimizer(learning_rate=learning_rate)\n",
        "training_op = optimizer.minimize(loss)\n",
        "\n",
        "# Fitting the model\n",
        "with tf.Session() as sess:\n",
        "    sess.run(tf.global_variables_initializer())\n",
        "    for iteration in range(int(n_epochs*train_set_size/batch_size)):\n",
        "        x_batch, y_batch = get_next_batch(batch_size) # fetch the next training batch\n",
        "        sess.run(training_op, feed_dict={X: x_batch, y: y_batch})\n",
        "        if iteration % int(5*train_set_size/batch_size) == 0:\n",
        "            mse_train = loss.eval(feed_dict={X: x_train, y: y_train})\n",
        "            mse_valid = loss.eval(feed_dict={X: x_valid, y: y_valid})\n",
        "            print('%.2f epochs: MSE train/valid = %.6f/%.6f'%(\n",
        "                iteration*batch_size/train_set_size, mse_train, mse_valid))\n",
        "# Predictions\n",
        "    y_test_pred = sess.run(outputs, feed_dict={X: x_test})\n",
        "\n",
        "##########  confusion accuracy\n",
        "from numpy import argmax\n",
        "argmax(y_test, axis=1, out=None)\n",
        "argmax(y_test_pred, axis=1, out=None)\n",
        "\n",
        "from sklearn.metrics import confusion_matrix\n",
        "target=argmax(y_test, axis=1, out=None)\n",
        "prediction=argmax(y_test_pred, axis=1, out=None)\n",
        "cm = confusion_matrix(target, prediction)\n",
        "\n",
        "from sklearn.metrics import accuracy_score\n",
        "score = accuracy_score(target, prediction)\n",
        "print(\"Accuracy {}%\".format(score))\n",
        "\n",
        "from sklearn.metrics import mean_squared_error\n",
        "rmse= mean_squared_error(target, prediction)\n",
        "print(\"RMSE {}%\".format(rmse))\n",
        "\n"
      ]
    },
    {
      "cell_type": "code",
      "execution_count": null,
      "metadata": {
        "id": "7x18qdvRg2Mz"
      },
      "outputs": [],
      "source": [
        "##### confusion matrix-- visualization\n",
        "import seaborn as sn\n",
        "# Normalise\n",
        "cmn = cm.astype('float') / cm.sum(axis=1)[:, np.newaxis]\n",
        "fig, ax = plt.subplots(figsize=(6,6))\n",
        "sn.heatmap(cmn, annot=True, fmt='.2f', cmap='Blues')\n",
        "plt.title('LSTM confusion_matrix')\n",
        "plt.ylabel('Actual')\n",
        "plt.xlabel('Predicted')\n",
        "plt.show(block=False)"
      ]
    },
    {
      "cell_type": "code",
      "execution_count": null,
      "metadata": {
        "id": "qUewNi6XCnmq"
      },
      "outputs": [],
      "source": [
        "# undersample\n",
        "# 只抓前面5000筆做0\n",
        "\n",
        "# 計算指標\n",
        "print(f\"Accuracy Score: {accuracy_score(target, prediction)*100:.2f}%\")\n",
        "print(f\"Precision Score: {precision_score(target, prediction,average='weighted')*100:.2f}%\")\n",
        "print(f\"Recall Score: {recall_score(target, prediction,average='weighted')*100:.2f}%\")\n",
        "print(f\"F1 score: {f1_score(target, prediction,average='weighted')*100:.2f}%\")"
      ]
    },
    {
      "cell_type": "markdown",
      "metadata": {
        "id": "STQVpKiwYXk7"
      },
      "source": [
        "# **2.RNN**"
      ]
    },
    {
      "cell_type": "code",
      "source": [
        "# -*- coding: utf-8 -*-\n",
        "##  提供的資料格式   第一列是變數名稱\n",
        "##  x1,x2,x3,x4…,xn,y\n",
        "\n",
        "# parameters\n",
        "x_no= 9     ## x的變數個數\n",
        "y_no= 1     ## y的變數個數\n",
        "\n",
        "window=1\n",
        "ahead=0\n",
        "seq_len = window + ahead\n",
        "\n",
        "\n",
        "\n",
        "# read data file\n",
        "# read data file\n",
        "dataset = pd.read_csv(\"/content/gdrive/MyDrive/paper/df_tag.csv\")\n",
        "dataset.columns = ['x1','x2','x3','x4','x5','x6','x7','x8','x9','y']\n",
        "dataset.head()\n",
        "\n",
        "data_length= len(dataset)\n",
        "\n",
        "df_stock = dataset.copy()\n",
        "df_stock = df_stock.dropna()  ## 去掉空的資料列!!\n",
        "\n",
        "df_stock_X = df_stock.iloc[:,:-1]\n",
        "df_stock_Y = df_stock.iloc[:,-1]\n",
        "\n",
        "# normalize the dataset\n",
        "from sklearn import preprocessing as skpp\n",
        "from pandas import DataFrame\n",
        "\n",
        "scaler = skpp.MinMaxScaler(feature_range=(0, 1))\n",
        "df_stock_Xnorm = DataFrame(scaler.fit_transform(df_stock_X))\n",
        "\n",
        "## 轉為 DataFrame\n",
        "df_stock_Y = DataFrame(df_stock_Y)\n",
        "\n",
        "##  將X and Y合併!\n",
        "df_stock_Xnorm['tmp'] = np.arange(0,len(df_stock_Xnorm))\n",
        "df_stock_Y['tmp'] = np.arange(0,len(df_stock_Y))\n",
        "\n",
        "df_stock_new= pd.merge(df_stock_Xnorm, df_stock_Y, on=['tmp'])\n",
        "df_stock_new = df_stock_new.drop('tmp', axis=1)\n",
        "\n",
        "df_stock_norm= df_stock_new"
      ],
      "metadata": {
        "id": "ZtwzsD_j19bI"
      },
      "execution_count": null,
      "outputs": []
    },
    {
      "cell_type": "code",
      "source": [
        "############################\n",
        "# data windows + Splitting the dataset into Train, Valid & test data\n",
        "valid_set_size_percentage = 1\n",
        "test_set_size_percentage = 10\n",
        "\n",
        "def load_data(stock, seq_len):\n",
        "    data_raw = stock\n",
        "    data = []\n",
        "    for index in range(len(data_raw) - seq_len+1):\n",
        "        data.append(data_raw[index: index + seq_len])\n",
        "    data = np.array(data);\n",
        "    valid_set_size = int(np.round(valid_set_size_percentage/100*data.shape[0]));\n",
        "    test_set_size = int(np.round(test_set_size_percentage/100*data.shape[0]));\n",
        "    train_set_size = data.shape[0] - (valid_set_size + test_set_size);\n",
        "    x_train = data[:train_set_size,:window,: -y_no]\n",
        "    y_train = data[:train_set_size,-1, -y_no:]\n",
        "    x_valid = data[train_set_size:train_set_size+valid_set_size, :window,: -y_no]\n",
        "    y_valid = data[train_set_size:train_set_size+valid_set_size,-1, -y_no:]\n",
        "    x_test = data[train_set_size+valid_set_size:, :window,: -y_no]\n",
        "    y_test = data[train_set_size+valid_set_size:,-1, -y_no:]\n",
        "    return [x_train, y_train, x_valid, y_valid, x_test, y_test]\n",
        "\n",
        "\n",
        "x_train, y_train, x_valid, y_valid, x_test, y_test= [],[],[],[],[],[]\n",
        "\n",
        "i=0\n",
        "df_stock_norm_temp = df_stock_norm.iloc[np.arange(data_length*i, data_length*i + data_length),:]\n",
        "x_traint, y_traint, x_validt, y_validt, x_testt, y_testt = load_data(df_stock_norm_temp, seq_len)\n",
        "x_train.append(x_traint)\n",
        "y_train.append(y_traint)\n",
        "x_valid.append(x_validt)\n",
        "y_valid.append(y_validt)\n",
        "x_test.append(x_testt)\n",
        "y_test.append(y_testt)\n",
        "\n",
        "\n",
        "##  4D to  3D\n",
        "x_train=np.reshape(np.array(x_train), (-1, window, x_no))\n",
        "y_train=np.reshape(np.array(y_train), (-1, y_no))\n",
        "\n",
        "x_valid=np.reshape(np.array(x_valid), (-1, window, x_no))\n",
        "y_valid=np.reshape(np.array(y_valid), (-1, y_no))\n",
        "\n",
        "x_test=np.reshape(np.array(x_test), (-1, window, x_no))\n",
        "y_test=np.reshape(np.array(y_test), (-1, y_no))"
      ],
      "metadata": {
        "id": "M5c7EnGy2CcJ"
      },
      "execution_count": null,
      "outputs": []
    },
    {
      "cell_type": "code",
      "source": [
        "#########################################\n",
        "##  看y 的 level 分布情形!\n",
        "X=x_train\n",
        "y=y_train\n",
        "\n",
        "from sklearn.preprocessing import LabelEncoder\n",
        "from collections import Counter\n",
        "\n",
        "y = LabelEncoder().fit_transform(y)\n",
        "counter = Counter(y)\n",
        "for k,v in counter.items():\n",
        "    per = v / len(y) * 100\n",
        "    print('Class=%d, n=%d (%.3f%%)' % (k, v, per))\n",
        "plt.bar(counter.keys(), counter.values())\n",
        "plt.show()"
      ],
      "metadata": {
        "colab": {
          "base_uri": "https://localhost:8080/",
          "height": 519
        },
        "id": "uu6qCG8m2Gky",
        "outputId": "125bede3-7603-4eaf-c0bb-47d5d12740b5"
      },
      "execution_count": null,
      "outputs": [
        {
          "output_type": "stream",
          "name": "stdout",
          "text": [
            "Class=0, n=103848 (98.396%)\n",
            "Class=1, n=1693 (1.604%)\n"
          ]
        },
        {
          "output_type": "stream",
          "name": "stderr",
          "text": [
            "/usr/local/lib/python3.10/dist-packages/sklearn/preprocessing/_label.py:116: DataConversionWarning: A column-vector y was passed when a 1d array was expected. Please change the shape of y to (n_samples, ), for example using ravel().\n",
            "  y = column_or_1d(y, warn=True)\n"
          ]
        },
        {
          "output_type": "display_data",
          "data": {
            "text/plain": [
              "<Figure size 640x480 with 1 Axes>"
            ],
            "image/png": "[encoded data removed]"
          },
          "metadata": {}
        }
      ]
    },
    {
      "cell_type": "code",
      "source": [
        "##########################\n",
        "## SMOTE\n",
        "\n",
        "from imblearn.over_sampling import SMOTE\n",
        "\n",
        "X=np.reshape(np.array(X), (len(x_train), -1))\n",
        "oversample = SMOTE()\n",
        "X, y = oversample.fit_resample(X, y)\n",
        "counter = Counter(y)\n",
        "for k,v in counter.items():\n",
        "    per = v / len(y) * 100\n",
        "    print('Class=%d, n=%d (%.3f%%)' % (k, v, per))\n",
        "plt.bar(counter.keys(), counter.values())\n",
        "plt.show()"
      ],
      "metadata": {
        "colab": {
          "base_uri": "https://localhost:8080/",
          "height": 465
        },
        "id": "eo5fzXo52Ijb",
        "outputId": "c872f90f-86fc-407b-802e-462612550d17"
      },
      "execution_count": null,
      "outputs": [
        {
          "output_type": "stream",
          "name": "stdout",
          "text": [
            "Class=0, n=103848 (50.000%)\n",
            "Class=1, n=103848 (50.000%)\n"
          ]
        },
        {
          "output_type": "display_data",
          "data": {
            "text/plain": [
              "<Figure size 640x480 with 1 Axes>"
            ],
            "image/png": "[encoded data removed]"
          },
          "metadata": {}
        }
      ]
    },
    {
      "cell_type": "code",
      "source": [
        "###########################\n",
        "##  reshape x 資料\n",
        "X=np.reshape(np.array(X), (-1, window ,x_no))\n",
        "\n",
        "y_level=len(np.unique(y))   ## y 有多少levels\n",
        "\n",
        "##  one-hot encoding\n",
        "from keras.utils import np_utils\n",
        "y_oneshot = np_utils.to_categorical(y)\n",
        "\n",
        "y_valid= np_utils.to_categorical(y_valid)\n",
        "y_test= np_utils.to_categorical(y_test)"
      ],
      "metadata": {
        "id": "eZs65wJN2KRp"
      },
      "execution_count": null,
      "outputs": []
    },
    {
      "cell_type": "code",
      "source": [
        "############################################\n",
        "\n",
        "x_train=X\n",
        "y_train= y_oneshot\n",
        "\n",
        "############################################\n",
        "\n",
        "\"\"\"Building the LSTM Model\"\"\"\n",
        "\n",
        "# parameters & Placeholders\n",
        "n_steps = window\n",
        "n_inputs = x_no\n",
        "n_neurons = 256\n",
        "n_outputs = y_level\n",
        "n_layers = 2\n",
        "learning_rate = 0.0005\n",
        "batch_size = 150\n",
        "n_epochs = 20\n",
        "train_set_size = x_train.shape[0]\n",
        "test_set_size = x_test.shape[0]\n",
        "tf.reset_default_graph()\n",
        "tf.disable_eager_execution()\n",
        "\n",
        "##用 tf.placeholder 創造出未來存放 x 與 y 值的地方\n",
        "X = tf.compat.v1.placeholder(tf.float32, [None, n_steps, n_inputs])\n",
        "y = tf.compat.v1.placeholder(tf.float32, [None, n_outputs])\n",
        "\n",
        "# function to get the next batch\n",
        "index_in_epoch = 0;\n",
        "perm_array  = np.arange(x_train.shape[0])\n",
        "np.random.shuffle(perm_array)  ## 隨機排列"
      ],
      "metadata": {
        "id": "VuUKHhAu2Nnv"
      },
      "execution_count": null,
      "outputs": []
    },
    {
      "cell_type": "code",
      "source": [
        "def get_next_batch(batch_size):\n",
        "    global index_in_epoch, x_train, perm_array\n",
        "    start = index_in_epoch\n",
        "    index_in_epoch += batch_size\n",
        "    if index_in_epoch > x_train.shape[0]:\n",
        "        np.random.shuffle(perm_array) # shuffle permutation array\n",
        "        start = 0 # start next epoch\n",
        "        index_in_epoch = batch_size\n",
        "    end = index_in_epoch\n",
        "    return x_train[perm_array[start:end]], y_train[perm_array[start:end]]"
      ],
      "metadata": {
        "id": "pb3GLk7Y2SAB"
      },
      "execution_count": null,
      "outputs": []
    },
    {
      "cell_type": "code",
      "execution_count": null,
      "metadata": {
        "colab": {
          "base_uri": "https://localhost:8080/"
        },
        "id": "9cF5TMNgYaT4",
        "outputId": "10865e70-879d-455f-8b20-a36f8e59796f"
      },
      "outputs": [
        {
          "output_type": "stream",
          "name": "stderr",
          "text": [
            "<ipython-input-27-dcc97c58eea6>:3: UserWarning: `tf.nn.rnn_cell.BasicRNNCell` is deprecated and will be removed in a future version. This class is equivalent as `tf.keras.layers.SimpleRNNCell`, and will be replaced by that in Tensorflow 2.0.\n",
            "  layers = [tf.compat.v1.nn.rnn_cell.BasicRNNCell(num_units=n_neurons, activation=tf.nn.elu)\n",
            "WARNING:tensorflow:`tf.nn.rnn_cell.MultiRNNCell` is deprecated. This class is equivalent as `tf.keras.layers.StackedRNNCells`, and will be replaced by that in Tensorflow 2.0.\n",
            "<ipython-input-27-dcc97c58eea6>:8: UserWarning: `tf.layers.dense` is deprecated and will be removed in a future version. Please use `tf.keras.layers.Dense` instead.\n",
            "  stacked_outputs = tf.compat.v1.layers.dense(stacked_rnn_outputs, n_outputs)\n"
          ]
        },
        {
          "output_type": "stream",
          "name": "stdout",
          "text": [
            "0.00 epochs: MSE train/valid = 0.690421/0.686173\n",
            "5.00 epochs: MSE train/valid = 0.339641/0.614667\n",
            "10.00 epochs: MSE train/valid = 0.294124/0.733761\n",
            "15.00 epochs: MSE train/valid = 0.280501/0.480513\n",
            "Accuracy 0.7422419804741981%\n",
            "RMSE 0.25775801952580196%\n"
          ]
        }
      ],
      "source": [
        "# RNN\n",
        "\n",
        "layers = [tf.compat.v1.nn.rnn_cell.BasicRNNCell(num_units=n_neurons, activation=tf.nn.elu)\n",
        "        for layer in range(n_layers)]\n",
        "multi_layer_cell =tf.compat.v1.nn.rnn_cell.MultiRNNCell(layers)\n",
        "rnn_outputs, states = tf.compat.v1.nn.dynamic_rnn(multi_layer_cell, X, dtype=tf.float32)\n",
        "stacked_rnn_outputs = tf.reshape(rnn_outputs, [-1, n_neurons])\n",
        "stacked_outputs = tf.compat.v1.layers.dense(stacked_rnn_outputs, n_outputs)\n",
        "\n",
        "outputs = tf.reshape(stacked_outputs, [-1, n_steps, n_outputs])\n",
        "outputs = outputs[:,n_steps-1,:] # keep only last output of sequence\n",
        "\n",
        "# Cost function\n",
        "loss = tf.reduce_mean(tf.nn.softmax_cross_entropy_with_logits_v2(logits= outputs,labels=y) )\n",
        "\n",
        "#optimizer\n",
        "optimizer = tf.train.AdamOptimizer(learning_rate=learning_rate)\n",
        "training_op = optimizer.minimize(loss)\n",
        "\n",
        "# Fitting the model\n",
        "with tf.Session() as sess:\n",
        "    sess.run(tf.global_variables_initializer())\n",
        "    for iteration in range(int(n_epochs*train_set_size/batch_size)):\n",
        "        x_batch, y_batch = get_next_batch(batch_size) # fetch the next training batch\n",
        "        sess.run(training_op, feed_dict={X: x_batch, y: y_batch})\n",
        "        if iteration % int(5*train_set_size/batch_size) == 0:\n",
        "            mse_train = loss.eval(feed_dict={X: x_train, y: y_train})\n",
        "            mse_valid = loss.eval(feed_dict={X: x_valid, y: y_valid})\n",
        "            print('%.2f epochs: MSE train/valid = %.6f/%.6f'%(\n",
        "                iteration*batch_size/train_set_size, mse_train, mse_valid))\n",
        "# Predictions\n",
        "    y_test_pred = sess.run(outputs, feed_dict={X: x_test})\n",
        "\n",
        "##########  confusion accuracy\n",
        "from numpy import argmax\n",
        "argmax(y_test, axis=1, out=None)\n",
        "argmax(y_test_pred, axis=1, out=None)\n",
        "\n",
        "from sklearn.metrics import confusion_matrix\n",
        "target=argmax(y_test, axis=1, out=None)\n",
        "prediction=argmax(y_test_pred, axis=1, out=None)\n",
        "cm = confusion_matrix(target, prediction)\n",
        "\n",
        "from sklearn.metrics import accuracy_score\n",
        "score = accuracy_score(target, prediction)\n",
        "print(\"Accuracy {}%\".format(score))\n",
        "\n",
        "from sklearn.metrics import mean_squared_error\n",
        "rmse= mean_squared_error(target, prediction)\n",
        "print(\"RMSE {}%\".format(rmse))\n"
      ]
    },
    {
      "cell_type": "code",
      "source": [
        "\n",
        "##### confusion matrix-- visualization\n",
        "import seaborn as sn\n",
        "# Normalise\n",
        "cmn = cm.astype('float') / cm.sum(axis=1)[:, np.newaxis]\n",
        "fig, ax = plt.subplots(figsize=(6,6))\n",
        "sn.heatmap(cmn, annot=True, fmt='.2f', cmap='Blues')\n",
        "\n",
        "plt.ylabel('Actual')\n",
        "plt.xlabel('Predicted')\n",
        "plt.show(block=False)"
      ],
      "metadata": {
        "colab": {
          "base_uri": "https://localhost:8080/",
          "height": 542
        },
        "id": "FXTZt5XY2gjg",
        "outputId": "0373d47a-dc07-404d-90e9-23359148cdcd"
      },
      "execution_count": null,
      "outputs": [
        {
          "output_type": "display_data",
          "data": {
            "text/plain": [
              "<Figure size 600x600 with 2 Axes>"
            ],
            "image/png": "[encoded data removed]"
          },
          "metadata": {}
        }
      ]
    },
    {
      "cell_type": "code",
      "source": [
        "# 計算指標\n",
        "print(f\"Accuracy Score: {accuracy_score(target, prediction)*100:.2f}%\")\n",
        "print(f\"Precision Score: {precision_score(target, prediction,average='weighted')*100:.2f}%\")\n",
        "print(f\"Recall Score: {recall_score(target, prediction,average='weighted')*100:.2f}%\")\n",
        "print(f\"F1 score: {f1_score(target, prediction,average='weighted')*100:.2f}%\")"
      ],
      "metadata": {
        "colab": {
          "base_uri": "https://localhost:8080/"
        },
        "id": "0w0zrKsn2dQR",
        "outputId": "e5ee79ab-bcc0-473c-e2bb-edebb7cab037"
      },
      "execution_count": null,
      "outputs": [
        {
          "output_type": "stream",
          "name": "stdout",
          "text": [
            "Accuracy Score: 74.22%\n",
            "Precision Score: 99.35%\n",
            "Recall Score: 74.22%\n",
            "F1 score: 84.71%\n"
          ]
        }
      ]
    },
    {
      "cell_type": "code",
      "source": [
        "Accuracy Score: 74.22%\n",
        "Precision Score: 99.35%\n",
        "Recall Score: 74.22%\n",
        "F1 score: 84.71%"
      ],
      "metadata": {
        "id": "swHKxd735OM3"
      },
      "execution_count": null,
      "outputs": []
    },
    {
      "cell_type": "code",
      "source": [],
      "metadata": {
        "id": "kS6Fwu2A9uUT"
      },
      "execution_count": null,
      "outputs": []
    },
    {
      "cell_type": "code",
      "source": [],
      "metadata": {
        "id": "z1cO1dCX9vHr"
      },
      "execution_count": null,
      "outputs": []
    },
    {
      "cell_type": "markdown",
      "metadata": {
        "id": "RJCRhsgC99BF"
      },
      "source": [
        "# **3.GRU**"
      ]
    },
    {
      "cell_type": "code",
      "source": [
        "# -*- coding: utf-8 -*-\n",
        "##  提供的資料格式   第一列是變數名稱\n",
        "##  x1,x2,x3,x4…,xn,y\n",
        "\n",
        "# parameters\n",
        "x_no= 9     ## x的變數個數\n",
        "y_no= 1     ## y的變數個數\n",
        "\n",
        "window=1\n",
        "ahead=0\n",
        "seq_len = window + ahead\n",
        "\n",
        "\n",
        "\n",
        "# read data file\n",
        "# read data file\n",
        "dataset = pd.read_csv(\"/content/gdrive/MyDrive/paper/df_tag.csv\")\n",
        "dataset.columns = ['x1','x2','x3','x4','x5','x6','x7','x8','x9','y']\n",
        "dataset.head()\n",
        "\n",
        "data_length= len(dataset)\n",
        "\n",
        "df_stock = dataset.copy()\n",
        "df_stock = df_stock.dropna()  ## 去掉空的資料列!!\n",
        "\n",
        "df_stock_X = df_stock.iloc[:,:-1]\n",
        "df_stock_Y = df_stock.iloc[:,-1]\n",
        "\n",
        "# normalize the dataset\n",
        "from sklearn import preprocessing as skpp\n",
        "from pandas import DataFrame\n",
        "\n",
        "scaler = skpp.MinMaxScaler(feature_range=(0, 1))\n",
        "df_stock_Xnorm = DataFrame(scaler.fit_transform(df_stock_X))\n",
        "\n",
        "## 轉為 DataFrame\n",
        "df_stock_Y = DataFrame(df_stock_Y)\n",
        "\n",
        "##  將X and Y合併!\n",
        "df_stock_Xnorm['tmp'] = np.arange(0,len(df_stock_Xnorm))\n",
        "df_stock_Y['tmp'] = np.arange(0,len(df_stock_Y))\n",
        "\n",
        "df_stock_new= pd.merge(df_stock_Xnorm, df_stock_Y, on=['tmp'])\n",
        "df_stock_new = df_stock_new.drop('tmp', axis=1)\n",
        "\n",
        "df_stock_norm= df_stock_new"
      ],
      "metadata": {
        "id": "zVzvdW0U99BM"
      },
      "execution_count": null,
      "outputs": []
    },
    {
      "cell_type": "code",
      "source": [
        "############################\n",
        "# data windows + Splitting the dataset into Train, Valid & test data\n",
        "valid_set_size_percentage = 1\n",
        "test_set_size_percentage = 10\n",
        "\n",
        "def load_data(stock, seq_len):\n",
        "    data_raw = stock\n",
        "    data = []\n",
        "    for index in range(len(data_raw) - seq_len+1):\n",
        "        data.append(data_raw[index: index + seq_len])\n",
        "    data = np.array(data);\n",
        "    valid_set_size = int(np.round(valid_set_size_percentage/100*data.shape[0]));\n",
        "    test_set_size = int(np.round(test_set_size_percentage/100*data.shape[0]));\n",
        "    train_set_size = data.shape[0] - (valid_set_size + test_set_size);\n",
        "    x_train = data[:train_set_size,:window,: -y_no]\n",
        "    y_train = data[:train_set_size,-1, -y_no:]\n",
        "    x_valid = data[train_set_size:train_set_size+valid_set_size, :window,: -y_no]\n",
        "    y_valid = data[train_set_size:train_set_size+valid_set_size,-1, -y_no:]\n",
        "    x_test = data[train_set_size+valid_set_size:, :window,: -y_no]\n",
        "    y_test = data[train_set_size+valid_set_size:,-1, -y_no:]\n",
        "    return [x_train, y_train, x_valid, y_valid, x_test, y_test]\n",
        "\n",
        "\n",
        "x_train, y_train, x_valid, y_valid, x_test, y_test= [],[],[],[],[],[]\n",
        "\n",
        "i=0\n",
        "df_stock_norm_temp = df_stock_norm.iloc[np.arange(data_length*i, data_length*i + data_length),:]\n",
        "x_traint, y_traint, x_validt, y_validt, x_testt, y_testt = load_data(df_stock_norm_temp, seq_len)\n",
        "x_train.append(x_traint)\n",
        "y_train.append(y_traint)\n",
        "x_valid.append(x_validt)\n",
        "y_valid.append(y_validt)\n",
        "x_test.append(x_testt)\n",
        "y_test.append(y_testt)\n",
        "\n",
        "\n",
        "##  4D to  3D\n",
        "x_train=np.reshape(np.array(x_train), (-1, window, x_no))\n",
        "y_train=np.reshape(np.array(y_train), (-1, y_no))\n",
        "\n",
        "x_valid=np.reshape(np.array(x_valid), (-1, window, x_no))\n",
        "y_valid=np.reshape(np.array(y_valid), (-1, y_no))\n",
        "\n",
        "x_test=np.reshape(np.array(x_test), (-1, window, x_no))\n",
        "y_test=np.reshape(np.array(y_test), (-1, y_no))"
      ],
      "metadata": {
        "id": "9oFr9rDZ99BM"
      },
      "execution_count": null,
      "outputs": []
    },
    {
      "cell_type": "code",
      "source": [
        "#########################################\n",
        "##  看y 的 level 分布情形!\n",
        "X=x_train\n",
        "y=y_train\n",
        "\n",
        "from sklearn.preprocessing import LabelEncoder\n",
        "from collections import Counter\n",
        "\n",
        "y = LabelEncoder().fit_transform(y)\n",
        "counter = Counter(y)\n",
        "for k,v in counter.items():\n",
        "    per = v / len(y) * 100\n",
        "    print('Class=%d, n=%d (%.3f%%)' % (k, v, per))\n",
        "plt.bar(counter.keys(), counter.values())\n",
        "plt.show()"
      ],
      "metadata": {
        "colab": {
          "base_uri": "https://localhost:8080/",
          "height": 519
        },
        "outputId": "e9b47870-137b-4676-f17e-1a020a9e081c",
        "id": "YVOVsyC-99BN"
      },
      "execution_count": null,
      "outputs": [
        {
          "output_type": "stream",
          "name": "stdout",
          "text": [
            "Class=0, n=103848 (98.396%)\n",
            "Class=1, n=1693 (1.604%)\n"
          ]
        },
        {
          "output_type": "stream",
          "name": "stderr",
          "text": [
            "/usr/local/lib/python3.10/dist-packages/sklearn/preprocessing/_label.py:116: DataConversionWarning: A column-vector y was passed when a 1d array was expected. Please change the shape of y to (n_samples, ), for example using ravel().\n",
            "  y = column_or_1d(y, warn=True)\n"
          ]
        },
        {
          "output_type": "display_data",
          "data": {
            "text/plain": [
              "<Figure size 640x480 with 1 Axes>"
            ],
            "image/png": "[encoded data removed]"
          },
          "metadata": {}
        }
      ]
    },
    {
      "cell_type": "code",
      "source": [
        "##########################\n",
        "## SMOTE\n",
        "\n",
        "from imblearn.over_sampling import SMOTE\n",
        "\n",
        "X=np.reshape(np.array(X), (len(x_train), -1))\n",
        "oversample = SMOTE()\n",
        "X, y = oversample.fit_resample(X, y)\n",
        "counter = Counter(y)\n",
        "for k,v in counter.items():\n",
        "    per = v / len(y) * 100\n",
        "    print('Class=%d, n=%d (%.3f%%)' % (k, v, per))\n",
        "plt.bar(counter.keys(), counter.values())\n",
        "plt.show()"
      ],
      "metadata": {
        "colab": {
          "base_uri": "https://localhost:8080/",
          "height": 465
        },
        "outputId": "cfbce80a-27dc-48a0-c82c-08fc88cb442d",
        "id": "f8oNecjB99BN"
      },
      "execution_count": null,
      "outputs": [
        {
          "output_type": "stream",
          "name": "stdout",
          "text": [
            "Class=0, n=103848 (50.000%)\n",
            "Class=1, n=103848 (50.000%)\n"
          ]
        },
        {
          "output_type": "display_data",
          "data": {
            "text/plain": [
              "<Figure size 640x480 with 1 Axes>"
            ],
            "image/png": "[encoded data removed]"
          },
          "metadata": {}
        }
      ]
    },
    {
      "cell_type": "code",
      "source": [
        "###########################\n",
        "##  reshape x 資料\n",
        "X=np.reshape(np.array(X), (-1, window ,x_no))\n",
        "\n",
        "y_level=len(np.unique(y))   ## y 有多少levels\n",
        "\n",
        "##  one-hot encoding\n",
        "from keras.utils import np_utils\n",
        "y_oneshot = np_utils.to_categorical(y)\n",
        "\n",
        "y_valid= np_utils.to_categorical(y_valid)\n",
        "y_test= np_utils.to_categorical(y_test)"
      ],
      "metadata": {
        "id": "dO7hiOxR99BN"
      },
      "execution_count": null,
      "outputs": []
    },
    {
      "cell_type": "code",
      "source": [
        "############################################\n",
        "\n",
        "x_train=X\n",
        "y_train= y_oneshot\n",
        "\n",
        "############################################\n",
        "\n",
        "\"\"\"Building the LSTM Model\"\"\"\n",
        "\n",
        "# parameters & Placeholders\n",
        "n_steps = window\n",
        "n_inputs = x_no\n",
        "n_neurons = 256\n",
        "n_outputs = y_level\n",
        "n_layers = 2\n",
        "learning_rate = 0.0005\n",
        "batch_size = 150\n",
        "n_epochs = 20\n",
        "train_set_size = x_train.shape[0]\n",
        "test_set_size = x_test.shape[0]\n",
        "tf.reset_default_graph()\n",
        "tf.disable_eager_execution()\n",
        "\n",
        "##用 tf.placeholder 創造出未來存放 x 與 y 值的地方\n",
        "X = tf.compat.v1.placeholder(tf.float32, [None, n_steps, n_inputs])\n",
        "y = tf.compat.v1.placeholder(tf.float32, [None, n_outputs])\n",
        "\n",
        "# function to get the next batch\n",
        "index_in_epoch = 0;\n",
        "perm_array  = np.arange(x_train.shape[0])\n",
        "np.random.shuffle(perm_array)  ## 隨機排列"
      ],
      "metadata": {
        "id": "zTk-AWBB99BN"
      },
      "execution_count": null,
      "outputs": []
    },
    {
      "cell_type": "code",
      "source": [
        "def get_next_batch(batch_size):\n",
        "    global index_in_epoch, x_train, perm_array\n",
        "    start = index_in_epoch\n",
        "    index_in_epoch += batch_size\n",
        "    if index_in_epoch > x_train.shape[0]:\n",
        "        np.random.shuffle(perm_array) # shuffle permutation array\n",
        "        start = 0 # start next epoch\n",
        "        index_in_epoch = batch_size\n",
        "    end = index_in_epoch\n",
        "    return x_train[perm_array[start:end]], y_train[perm_array[start:end]]"
      ],
      "metadata": {
        "id": "ersVS-2u99BO"
      },
      "execution_count": null,
      "outputs": []
    },
    {
      "cell_type": "code",
      "execution_count": null,
      "metadata": {
        "colab": {
          "base_uri": "https://localhost:8080/"
        },
        "outputId": "edea5011-9f82-443c-eed4-a91c4c4f1108",
        "id": "6Kn_VjuN99BO"
      },
      "outputs": [
        {
          "output_type": "stream",
          "name": "stderr",
          "text": [
            "<ipython-input-38-04d88032ff4d>:10: UserWarning: `tf.nn.rnn_cell.GRUCell` is deprecated and will be removed in a future version. This class is equivalent as `tf.keras.layers.GRUCell`, and will be replaced by that in Tensorflow 2.0.\n",
            "  layers = [tf.compat.v1.nn.rnn_cell.GRUCell(num_units=n_neurons, activation=tf.nn.elu)\n",
            "WARNING:tensorflow:`tf.nn.rnn_cell.MultiRNNCell` is deprecated. This class is equivalent as `tf.keras.layers.StackedRNNCells`, and will be replaced by that in Tensorflow 2.0.\n",
            "WARNING:tensorflow:From /usr/local/lib/python3.10/dist-packages/keras/layers/rnn/legacy_cells.py:584: calling Constant.__init__ (from tensorflow.python.ops.init_ops) with dtype is deprecated and will be removed in a future version.\n",
            "Instructions for updating:\n",
            "Call initializer instance with the dtype argument instead of passing it to the constructor\n",
            "<ipython-input-38-04d88032ff4d>:15: UserWarning: `tf.layers.dense` is deprecated and will be removed in a future version. Please use `tf.keras.layers.Dense` instead.\n",
            "  stacked_outputs = tf.compat.v1.layers.dense(stacked_rnn_outputs, n_outputs)\n"
          ]
        },
        {
          "output_type": "stream",
          "name": "stdout",
          "text": [
            "0.00 epochs: MSE train/valid = 0.692402/0.690919\n",
            "5.00 epochs: MSE train/valid = 0.280422/0.642319\n",
            "10.00 epochs: MSE train/valid = 0.241722/0.516726\n",
            "15.00 epochs: MSE train/valid = 0.225893/0.444992\n",
            "Accuracy 0.7760198744769874%\n",
            "RMSE 0.22398012552301255%\n"
          ]
        }
      ],
      "source": [
        "# RNN\n",
        "\n",
        "# layers = [tf.compat.v1.nn.rnn_cell.BasicRNNCell(num_units=n_neurons, activation=tf.nn.elu)\n",
        "#         for layer in range(n_layers)]\n",
        "# multi_layer_cell =tf.compat.v1.nn.rnn_cell.MultiRNNCell(layers)\n",
        "# rnn_outputs, states = tf.compat.v1.nn.dynamic_rnn(multi_layer_cell, X, dtype=tf.float32)\n",
        "# stacked_rnn_outputs = tf.reshape(rnn_outputs, [-1, n_neurons])\n",
        "# stacked_outputs = tf.compat.v1.layers.dense(stacked_rnn_outputs, n_outputs)\n",
        "\n",
        "layers = [tf.compat.v1.nn.rnn_cell.GRUCell(num_units=n_neurons, activation=tf.nn.elu)\n",
        "          for layer in range(n_layers)]\n",
        "multi_layer_cell = tf.compat.v1.nn.rnn_cell.MultiRNNCell(layers)\n",
        "rnn_outputs, states = tf.compat.v1.nn.dynamic_rnn(multi_layer_cell, X, dtype=tf.float32)\n",
        "stacked_rnn_outputs = tf.reshape(rnn_outputs, [-1, n_neurons])\n",
        "stacked_outputs = tf.compat.v1.layers.dense(stacked_rnn_outputs, n_outputs)\n",
        "\n",
        "\n",
        "outputs = tf.reshape(stacked_outputs, [-1, n_steps, n_outputs])\n",
        "outputs = outputs[:,n_steps-1,:] # keep only last output of sequence\n",
        "\n",
        "# Cost function\n",
        "loss = tf.reduce_mean(tf.nn.softmax_cross_entropy_with_logits_v2(logits= outputs,labels=y) )\n",
        "\n",
        "#optimizer\n",
        "optimizer = tf.train.AdamOptimizer(learning_rate=learning_rate)\n",
        "training_op = optimizer.minimize(loss)\n",
        "\n",
        "# Fitting the model\n",
        "with tf.Session() as sess:\n",
        "    sess.run(tf.global_variables_initializer())\n",
        "    for iteration in range(int(n_epochs*train_set_size/batch_size)):\n",
        "        x_batch, y_batch = get_next_batch(batch_size) # fetch the next training batch\n",
        "        sess.run(training_op, feed_dict={X: x_batch, y: y_batch})\n",
        "        if iteration % int(5*train_set_size/batch_size) == 0:\n",
        "            mse_train = loss.eval(feed_dict={X: x_train, y: y_train})\n",
        "            mse_valid = loss.eval(feed_dict={X: x_valid, y: y_valid})\n",
        "            print('%.2f epochs: MSE train/valid = %.6f/%.6f'%(\n",
        "                iteration*batch_size/train_set_size, mse_train, mse_valid))\n",
        "# Predictions\n",
        "    y_test_pred = sess.run(outputs, feed_dict={X: x_test})\n",
        "\n",
        "##########  confusion accuracy\n",
        "from numpy import argmax\n",
        "argmax(y_test, axis=1, out=None)\n",
        "argmax(y_test_pred, axis=1, out=None)\n",
        "\n",
        "from sklearn.metrics import confusion_matrix\n",
        "target=argmax(y_test, axis=1, out=None)\n",
        "prediction=argmax(y_test_pred, axis=1, out=None)\n",
        "cm = confusion_matrix(target, prediction)\n",
        "\n",
        "from sklearn.metrics import accuracy_score\n",
        "score = accuracy_score(target, prediction)\n",
        "print(\"Accuracy {}%\".format(score))\n",
        "\n",
        "from sklearn.metrics import mean_squared_error\n",
        "rmse= mean_squared_error(target, prediction)\n",
        "print(\"RMSE {}%\".format(rmse))\n"
      ]
    },
    {
      "cell_type": "code",
      "source": [
        "\n",
        "##### confusion matrix-- visualization\n",
        "import seaborn as sn\n",
        "# Normalise\n",
        "cmn = cm.astype('float') / cm.sum(axis=1)[:, np.newaxis]\n",
        "fig, ax = plt.subplots(figsize=(6,6))\n",
        "sn.heatmap(cmn, annot=True, fmt='.2f', cmap='Blues')\n",
        "\n",
        "plt.ylabel('Actual')\n",
        "plt.xlabel('Predicted')\n",
        "plt.show(block=False)"
      ],
      "metadata": {
        "colab": {
          "base_uri": "https://localhost:8080/",
          "height": 542
        },
        "outputId": "4b3ba8a3-bec2-4b3a-dce1-1a3350fadaa0",
        "id": "gfjSEAzi99BO"
      },
      "execution_count": null,
      "outputs": [
        {
          "output_type": "display_data",
          "data": {
            "text/plain": [
              "<Figure size 600x600 with 2 Axes>"
            ],
            "image/png": "[encoded data removed]"
          },
          "metadata": {}
        }
      ]
    },
    {
      "cell_type": "code",
      "source": [
        "# 計算指標\n",
        "print(f\"Accuracy Score: {accuracy_score(target, prediction)*100:.2f}%\")\n",
        "print(f\"Precision Score: {precision_score(target, prediction,average='weighted')*100:.2f}%\")\n",
        "print(f\"Recall Score: {recall_score(target, prediction,average='weighted')*100:.2f}%\")\n",
        "print(f\"F1 score: {f1_score(target, prediction,average='weighted')*100:.2f}%\")"
      ],
      "metadata": {
        "colab": {
          "base_uri": "https://localhost:8080/"
        },
        "outputId": "45428c10-c86b-4717-ca15-e4f72331b204",
        "id": "eX0JfwmK99BO"
      },
      "execution_count": null,
      "outputs": [
        {
          "output_type": "stream",
          "name": "stdout",
          "text": [
            "Accuracy Score: 77.60%\n",
            "Precision Score: 99.36%\n",
            "Recall Score: 77.60%\n",
            "F1 score: 86.89%\n"
          ]
        }
      ]
    },
    {
      "cell_type": "code",
      "source": [
        "Accuracy Score: 77.60%\n",
        "Precision Score: 99.36%\n",
        "Recall Score: 77.60%\n",
        "F1 score: 86.89%"
      ],
      "metadata": {
        "id": "d99wtraQ99BP"
      },
      "execution_count": null,
      "outputs": []
    },
    {
      "cell_type": "markdown",
      "metadata": {
        "id": "lhyWddxPlyKA"
      },
      "source": [
        "# **3.決策樹**"
      ]
    },
    {
      "cell_type": "code",
      "execution_count": null,
      "metadata": {
        "id": "jfABZFS7zeYs"
      },
      "outputs": [],
      "source": [
        "# -*- coding: utf-8 -*-\n",
        "##  提供的資料格式   第一列是變數名稱\n",
        "##  x1,x2,x3,x4…,xn,y\n",
        "\n",
        "# parameters\n",
        "x_no= 9     ## x的變數個數\n",
        "y_no= 1     ## y的變數個數\n",
        "\n",
        "window=1\n",
        "ahead=0\n",
        "seq_len = window + ahead\n",
        "\n",
        "\n",
        "\n",
        "# read data file\n",
        "# read data file\n",
        "dataset = pd.read_csv(\"/content/gdrive/MyDrive/paper/df_tag.csv\")\n",
        "dataset.columns = ['x1','x2','x3','x4','x5','x6','x7','x8','x9','y']\n",
        "dataset.head()\n",
        "\n",
        "data_length= len(dataset)\n",
        "\n",
        "df_stock = dataset.copy()\n",
        "df_stock = df_stock.dropna()  ## 去掉空的資料列!!\n",
        "\n",
        "df_stock_X = df_stock.iloc[:,:-1]\n",
        "df_stock_Y = df_stock.iloc[:,-1]\n",
        "\n",
        "# normalize the dataset\n",
        "from sklearn import preprocessing as skpp\n",
        "from pandas import DataFrame\n",
        "\n",
        "scaler = skpp.MinMaxScaler(feature_range=(0, 1))\n",
        "df_stock_Xnorm = DataFrame(scaler.fit_transform(df_stock_X))\n",
        "\n",
        "## 轉為 DataFrame\n",
        "df_stock_Y = DataFrame(df_stock_Y)\n",
        "\n",
        "##  將X and Y合併!\n",
        "df_stock_Xnorm['tmp'] = np.arange(0,len(df_stock_Xnorm))\n",
        "df_stock_Y['tmp'] = np.arange(0,len(df_stock_Y))\n",
        "\n",
        "df_stock_new= pd.merge(df_stock_Xnorm, df_stock_Y, on=['tmp'])\n",
        "df_stock_new = df_stock_new.drop('tmp', axis=1)\n",
        "\n",
        "df_stock_norm= df_stock_new\n",
        "\n",
        "\n",
        "############################\n",
        "# data windows + Splitting the dataset into Train, Valid & test data\n",
        "valid_set_size_percentage = 1\n",
        "test_set_size_percentage = 30\n",
        "\n",
        "def load_data(stock, seq_len):\n",
        "    data_raw = stock\n",
        "    data = []\n",
        "    for index in range(len(data_raw) - seq_len+1):\n",
        "        data.append(data_raw[index: index + seq_len])\n",
        "    data = np.array(data);\n",
        "    valid_set_size = int(np.round(valid_set_size_percentage/100*data.shape[0]));\n",
        "    test_set_size = int(np.round(test_set_size_percentage/100*data.shape[0]));\n",
        "    train_set_size = data.shape[0] - (valid_set_size + test_set_size);\n",
        "    x_train = data[:train_set_size,:window,: -y_no]\n",
        "    y_train = data[:train_set_size,-1, -y_no:]\n",
        "    x_valid = data[train_set_size:train_set_size+valid_set_size, :window,: -y_no]\n",
        "    y_valid = data[train_set_size:train_set_size+valid_set_size,-1, -y_no:]\n",
        "    x_test = data[train_set_size+valid_set_size:, :window,: -y_no]\n",
        "    y_test = data[train_set_size+valid_set_size:,-1, -y_no:]\n",
        "    return [x_train, y_train, x_valid, y_valid, x_test, y_test]\n",
        "\n",
        "\n",
        "x_train, y_train, x_valid, y_valid, x_test, y_test= [],[],[],[],[],[]\n",
        "\n",
        "i=0\n",
        "df_stock_norm_temp = df_stock_norm.iloc[np.arange(data_length*i, data_length*i + data_length),:]\n",
        "x_traint, y_traint, x_validt, y_validt, x_testt, y_testt = load_data(df_stock_norm_temp, seq_len)\n",
        "x_train.append(x_traint)\n",
        "y_train.append(y_traint)\n",
        "x_valid.append(x_validt)\n",
        "y_valid.append(y_validt)\n",
        "x_test.append(x_testt)\n",
        "y_test.append(y_testt)\n",
        "\n",
        "\n",
        "##  4D to  3D\n",
        "x_train=np.reshape(np.array(x_train), (-1, window, x_no))\n",
        "y_train=np.reshape(np.array(y_train), (-1, y_no))\n",
        "\n",
        "x_valid=np.reshape(np.array(x_valid), (-1, window, x_no))\n",
        "y_valid=np.reshape(np.array(y_valid), (-1, y_no))\n",
        "\n",
        "x_test=np.reshape(np.array(x_test), (-1, window, x_no))\n",
        "y_test=np.reshape(np.array(y_test), (-1, y_no))\n",
        "\n",
        "\n",
        "#########################################\n",
        "##  看y 的 level 分布情形!\n",
        "X=x_train\n",
        "y=y_train\n",
        "\n",
        "from sklearn.preprocessing import LabelEncoder\n",
        "from collections import Counter\n",
        "\n",
        "y = LabelEncoder().fit_transform(y)\n",
        "counter = Counter(y)\n",
        "for k,v in counter.items():\n",
        "    per = v / len(y) * 100\n",
        "    print('Class=%d, n=%d (%.3f%%)' % (k, v, per))\n",
        "plt.bar(counter.keys(), counter.values())\n",
        "plt.show()\n",
        "\n",
        "##########################\n",
        "## SMOTE\n",
        "\n",
        "from imblearn.over_sampling import SMOTE\n",
        "\n",
        "X=np.reshape(np.array(X), (len(x_train), -1))\n",
        "oversample = SMOTE()\n",
        "X, y = oversample.fit_resample(X, y)\n",
        "counter = Counter(y)\n",
        "for k,v in counter.items():\n",
        "    per = v / len(y) * 100\n",
        "    print('Class=%d, n=%d (%.3f%%)' % (k, v, per))\n",
        "plt.bar(counter.keys(), counter.values())\n",
        "plt.show()\n",
        "\n",
        "###########################\n",
        "##  reshape x 資料\n",
        "X=np.reshape(np.array(X), (-1, window ,x_no))\n",
        "\n",
        "y_level=len(np.unique(y))   ## y 有多少levels\n",
        "\n",
        "##  one-hot encoding\n",
        "from keras.utils import np_utils\n",
        "y_oneshot = np_utils.to_categorical(y)\n",
        "\n",
        "y_valid= np_utils.to_categorical(y_valid)\n",
        "y_test= np_utils.to_categorical(y_test)\n",
        "\n",
        "############################################\n",
        "\n",
        "x_train=X\n",
        "y_train= y_oneshot\n",
        "\n",
        "############################################\n",
        "\n",
        "\"\"\"Building the LSTM Model\"\"\"\n",
        "\n",
        "# parameters & Placeholders\n",
        "n_steps = window\n",
        "n_inputs = x_no\n",
        "n_neurons = 256\n",
        "n_outputs = y_level\n",
        "n_layers = 2\n",
        "learning_rate = 0.0005\n",
        "batch_size = 150\n",
        "n_epochs = 20\n",
        "train_set_size = x_train.shape[0]\n",
        "test_set_size = x_test.shape[0]\n",
        "tf.reset_default_graph()\n",
        "tf.disable_eager_execution()\n",
        "\n",
        "##用 tf.placeholder 創造出未來存放 x 與 y 值的地方\n",
        "X = tf.compat.v1.placeholder(tf.float32, [None, n_steps, n_inputs])\n",
        "y = tf.compat.v1.placeholder(tf.float32, [None, n_outputs])\n",
        "\n",
        "# function to get the next batch\n",
        "index_in_epoch = 0;\n",
        "perm_array  = np.arange(x_train.shape[0])\n",
        "np.random.shuffle(perm_array)  ## 隨機排列\n",
        "\n",
        "def get_next_batch(batch_size):\n",
        "    global index_in_epoch, x_train, perm_array\n",
        "    start = index_in_epoch\n",
        "    index_in_epoch += batch_size\n",
        "    if index_in_epoch > x_train.shape[0]:\n",
        "        np.random.shuffle(perm_array) # shuffle permutation array\n",
        "        start = 0 # start next epoch\n",
        "        index_in_epoch = batch_size\n",
        "    end = index_in_epoch\n",
        "    return x_train[perm_array[start:end]], y_train[perm_array[start:end]]"
      ]
    },
    {
      "cell_type": "code",
      "execution_count": null,
      "metadata": {
        "id": "eKPcyd6qqE6B"
      },
      "outputs": [],
      "source": [
        "df_gru = dataset.copy()\n",
        "df_gru.head()"
      ]
    },
    {
      "cell_type": "code",
      "execution_count": null,
      "metadata": {
        "id": "Se4muVZBnzEi"
      },
      "outputs": [],
      "source": [
        "from tensorflow.keras.models import Sequential\n",
        "from tensorflow.keras.layers import GRU, Dense\n",
        "\n",
        "\n",
        "# 分割特徵和目標變數\n",
        "X = df_gru.drop('y', axis=1)\n",
        "y = df_gru['y']\n",
        "\n",
        "# 使用SMOTE進行過抽樣\n",
        "smote = SMOTE(random_state=42)\n",
        "X_resampled, y_resampled = smote.fit_resample(X, y)\n",
        "\n",
        "# 分割訓練集和測試集\n",
        "X_train, X_test, y_train, y_test = train_test_split(X_resampled, y_resampled, test_size=0.2, random_state=42)\n",
        "\n",
        "# 建立GRU模型\n",
        "model = Sequential()\n",
        "model.add(GRU(32, input_shape=(X_train.shape[1], 1)))\n",
        "model.add(Dense(1, activation='sigmoid'))\n",
        "\n",
        "# 編譯模型\n",
        "model.compile(loss='binary_crossentropy', optimizer='adam', metrics=['accuracy'])\n",
        "\n",
        "# 將特徵轉換為三維張量\n",
        "X_train = X_train.values.reshape((X_train.shape[0], X_train.shape[1], 1))\n",
        "X_test = X_test.values.reshape((X_test.shape[0], X_test.shape[1], 1))\n",
        "\n",
        "# 訓練模型\n",
        "model.fit(X_train, y_train, epochs=10, batch_size=32, verbose=1)\n",
        "\n",
        "# 預測測試集\n",
        "#y_pred = model.predict_classes(X_test)\n",
        "y_pred=(model.predict(X_test) > 0.5).astype(\"int32\")\n",
        "# 計算準確率\n",
        "accuracy = accuracy_score(y_test, y_pred)\n",
        "print(\"準確率:\", accuracy)\n",
        "\n",
        "# 製作混淆矩陣\n",
        "cm = confusion_matrix(y_test, y_pred)\n",
        "\n",
        "# 製作百分比的混淆矩陣圖\n",
        "plt.figure(figsize=(8, 6))\n",
        "sns.heatmap(cm/sum(sum(cm)), annot=True, fmt=\".2%\", cmap=\"Blues\")\n",
        "plt.title('GRU confusion_matrix')\n",
        "plt.ylabel('Actual')\n",
        "plt.xlabel('Predicted')\n",
        "plt.show()\n"
      ]
    },
    {
      "cell_type": "code",
      "execution_count": null,
      "metadata": {
        "id": "xn54EuQR6fIH"
      },
      "outputs": [],
      "source": [
        "# 製作混淆矩陣\n",
        "cm = confusion_matrix(y_test, y_pred)\n",
        "\n",
        "# 製作百分比的混淆矩陣圖\n",
        "plt.figure(figsize=(8, 6))\n",
        "sns.heatmap(cm/sum(sum(cm)), annot=True, fmt=\".2%\", cmap=\"Blues\")\n",
        "plt.title('Decision tree confusion_matrix')\n",
        "plt.ylabel('Actual')\n",
        "plt.xlabel('Predicted')\n",
        "plt.show()"
      ]
    },
    {
      "cell_type": "code",
      "execution_count": null,
      "metadata": {
        "id": "-s1r_IJVTgQP"
      },
      "outputs": [],
      "source": [
        "clf = DecisionTreeClassifier(\n",
        "    criterion='gini',            # 分割标准，CART使用基尼系数\n",
        "    splitter='best',             # 分割策略，可选'best'或'random'\n",
        "    max_depth=None,              # 树的最大深度\n",
        "    min_samples_split=2,         # 分割内部节点所需的最小样本数\n",
        "    min_samples_leaf=1,          # 叶节点上所需的最小样本数\n",
        "    random_state=42              # 随机种子\n",
        ")\n",
        "clf.fit(X, y)\n",
        "y_pred = clf.predict(X_test)\n",
        "print(y_pred)\n",
        "accuracy = clf.score(X_test, y_test)\n",
        "print(f\"Accuracy Score: {accuracy_score(y_test, y_pred)*100:.2f}%\")\n",
        "print(f\"Precision Score: {precision_score(y_test, y_pred,average='micro')*100:.2f}%\")\n",
        "print(f\"Recall Score: {recall_score(y_test, y_pred,average='micro')*100:.2f}%\")\n",
        "print(f\"F1 score: {f1_score(y_test, y_pred,average='micro')*100:.2f}%\")"
      ]
    },
    {
      "cell_type": "markdown",
      "metadata": {
        "id": "G41UgpVwk70r"
      },
      "source": [
        "# **4.決策樹(CART)**"
      ]
    },
    {
      "cell_type": "code",
      "execution_count": null,
      "metadata": {
        "id": "V92gH6Q5lAZ3"
      },
      "outputs": [],
      "source": [
        "df_tr = df_ml.copy()\n",
        "df_tr.head()"
      ]
    },
    {
      "cell_type": "code",
      "execution_count": null,
      "metadata": {
        "id": "F9kYeAxULqVr"
      },
      "outputs": [],
      "source": [
        "# 將特徵和目標變數分開\n",
        "X = df_tr.drop('y', axis=1)\n",
        "y = df_tr['y']\n",
        "\n",
        "# 切分訓練集和測試集（70%訓練集，30%測試集）\n",
        "X_train, X_test, y_train, y_test = train_test_split(X, y, test_size=0.3, random_state=42)\n"
      ]
    },
    {
      "cell_type": "code",
      "execution_count": null,
      "metadata": {
        "id": "e_kAxBaCMCYk"
      },
      "outputs": [],
      "source": [
        "#########################################\n",
        "##  看y 的 level 分布情形!\n",
        "X=X_train\n",
        "y=y_train\n",
        "\n",
        "from sklearn.preprocessing import LabelEncoder\n",
        "from collections import Counter\n",
        "\n",
        "y = LabelEncoder().fit_transform(y)\n",
        "counter = Counter(y)\n",
        "for k,v in counter.items():\n",
        "    per = v / len(y) * 100\n",
        "    print('Class=%d, n=%d (%.3f%%)' % (k, v, per))\n",
        "plt.bar(counter.keys(), counter.values())\n",
        "plt.show()"
      ]
    },
    {
      "cell_type": "code",
      "execution_count": null,
      "metadata": {
        "id": "j4i1CGajMFBS"
      },
      "outputs": [],
      "source": [
        "##########################\n",
        "## SMOTE\n",
        "\n",
        "from imblearn.over_sampling import SMOTE\n",
        "\n",
        "X=np.reshape(np.array(X), (len(X_train), -1))\n",
        "oversample = SMOTE()\n",
        "X, y = oversample.fit_resample(X, y)\n",
        "counter = Counter(y)\n",
        "for k,v in counter.items():\n",
        "    per = v / len(y) * 100\n",
        "    print('Class=%d, n=%d (%.3f%%)' % (k, v, per))\n",
        "plt.bar(counter.keys(), counter.values())\n",
        "plt.show()"
      ]
    },
    {
      "cell_type": "markdown",
      "metadata": {
        "id": "c2Nvka8Rsv5R"
      },
      "source": [
        "# **5.羅吉斯迴歸**"
      ]
    },
    {
      "cell_type": "code",
      "execution_count": null,
      "metadata": {
        "id": "QCvbIqras0Ck"
      },
      "outputs": [],
      "source": [
        "\n",
        "from sklearn.linear_model import LogisticRegression\n",
        "\n",
        "# 載入資料\n",
        "df_log = dataset.copy()\n",
        "df_log.head()\n",
        "\n",
        "# 分割特徵和目標變數\n",
        "X = df_log.drop('y', axis=1)\n",
        "y = df_log['y']\n",
        "\n",
        "# 使用SMOTE進行過抽樣\n",
        "smote = SMOTE(random_state=42)\n",
        "X_resampled, y_resampled = smote.fit_resample(X, y)\n",
        "\n",
        "# 分割訓練集和測試集\n",
        "X_train, X_test, y_train, y_test = train_test_split(X_resampled, y_resampled, test_size=0.2, random_state=42)\n",
        "\n",
        "# 建立邏輯回歸模型\n",
        "model = LogisticRegression()\n",
        "\n",
        "# 訓練模型\n",
        "model.fit(X_train, y_train)\n",
        "\n",
        "# 預測測試集\n",
        "y_pred = model.predict(X_test)\n",
        "\n",
        "# 計算準確率\n",
        "accuracy = accuracy_score(y_test, y_pred)\n",
        "print(\"準確率:\", accuracy)\n",
        "\n",
        "# 製作混淆矩陣\n",
        "cm = confusion_matrix(y_test, y_pred)\n",
        "\n",
        "# 製作百分比的混淆矩陣圖\n",
        "plt.figure(figsize=(8, 6))\n",
        "sns.heatmap(cm/sum(sum(cm)), annot=True, fmt=\".2%\", cmap=\"Blues\")\n",
        "plt.title('Logistic Regression confusion_matrix')\n",
        "plt.ylabel('Actual')\n",
        "plt.xlabel('Predicted')\n",
        "plt.show()"
      ]
    },
    {
      "cell_type": "markdown",
      "metadata": {
        "id": "5Ium0B-010cb"
      },
      "source": [
        "# **總結**"
      ]
    },
    {
      "cell_type": "code",
      "execution_count": null,
      "metadata": {
        "id": "3lKDTld-0NMY"
      },
      "outputs": [],
      "source": [
        "\n",
        "index = ['LSTM', 'RNN', '決策樹', 'GRU', '羅吉斯迴歸']\n",
        "columns = ['整體準確率', '潛在詐欺判斷準確率']\n",
        "\n",
        "data = [\n",
        "    [0.84, 0.56],\n",
        "    [0.85, 0.61],\n",
        "    [0.98, 0.49],\n",
        "    [0.94, 0.48],\n",
        "    [0.81, 0.40]\n",
        "]\n",
        "\n",
        "df = pd.DataFrame(data, index=index, columns=columns)\n",
        "display(df)"
      ]
    }
  ],
  "metadata": {
    "accelerator": "GPU",
    "colab": {
      "machine_shape": "hm",
      "provenance": [],
      "toc_visible": true,
      "mount_file_id": "1XLl1bNKtMCkX9v8xWckp6H2GkHnIMODA",
      "authorship_tag": "ABX9TyMfZ81Tj7sk1MBCZa+JfeHE",
      "include_colab_link": true
    },
    "kernelspec": {
      "display_name": "Python 3",
      "name": "python3"
    },
    "language_info": {
      "name": "python"
    }
  },
  "nbformat": 4,
  "nbformat_minor": 0
}